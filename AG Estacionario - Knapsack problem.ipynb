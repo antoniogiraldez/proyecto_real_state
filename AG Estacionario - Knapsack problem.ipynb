{
 "cells": [
  {
   "cell_type": "code",
   "execution_count": 1,
   "metadata": {},
   "outputs": [],
   "source": [
    "import math \n",
    "import random\n",
    "import numpy as np\n",
    "import matplotlib.pyplot as plt"
   ]
  },
  {
   "cell_type": "markdown",
   "metadata": {},
   "source": [
    "### Solución del problema de la mochila con algoritmos géneticos - Método estacionario"
   ]
  },
  {
   "cell_type": "code",
   "execution_count": 2,
   "metadata": {},
   "outputs": [],
   "source": [
    "po = 4 #Número de individuos por población\n",
    "pm = 0.15 #Probabilidad de mutación\n",
    "pc = 0.9 #Probabilidad de cruzamiento\n",
    "GenMax = 10 #Número de generaciones máx"
   ]
  },
  {
   "cell_type": "code",
   "execution_count": 3,
   "metadata": {},
   "outputs": [],
   "source": [
    "#Definimos la cantidad de objetos, el peso minimo de un objeto y el peso maximo (aleatoriamente)\n",
    "Cantidad_objetos = 20\n",
    "Peso_minimo = 20 #kilogramos\n",
    "Peso_maximo = 80 #kilogramos\n",
    "Peso_objetos = random.sample(range(Peso_minimo,Peso_maximo), Cantidad_objetos)\n",
    "\n",
    "#Definimos el valor de esos objetos (aleatoriamente)\n",
    "valor_minimo = 100 #euros\n",
    "valor_maximo = 1200 #euros\n",
    "Valor_objetos = random.sample(range(valor_minimo,valor_maximo), Cantidad_objetos)\n",
    "\n",
    "#Definimos el peso máximo que soporta la mochila\n",
    "Peso_maximo = 750 #kilogramos"
   ]
  },
  {
   "cell_type": "code",
   "execution_count": 6,
   "metadata": {},
   "outputs": [
    {
     "name": "stdout",
     "output_type": "stream",
     "text": [
      "751\n",
      "751\n",
      "751\n",
      "751\n"
     ]
    }
   ],
   "source": [
    "#Generamos la población inicial \n",
    "pesos_pob=[]\n",
    "fitness_pob=[]\n",
    "for i in range(po):\n",
    "    Peso_vec_sol = Peso_maximo+1\n",
    "    while Peso_vec_sol > Peso_maximo:\n",
    "        print(Peso_vec_sol)\n",
    "        Vector_sol = np.random.choice([0, 1], size=Cantidad_objetos)\n",
    "        Peso_vec_sol = sum(Peso_objetos * Vector_sol)\n",
    "        fitness = sum(Valor_objetos * Vector_sol)\n",
    "    if i == 0:\n",
    "        mat_pob = Vector_sol.copy()\n",
    "    else:\n",
    "        mat_pob = np.vstack([mat_pob, Vector_sol])\n",
    "    pesos_pob.append(Peso_vec_sol)\n",
    "    fitness_pob.append(fitness)"
   ]
  },
  {
   "cell_type": "code",
   "execution_count": 5,
   "metadata": {},
   "outputs": [
    {
     "name": "stdout",
     "output_type": "stream",
     "text": [
      "[[1 1 1 0 0 0 0 1 0 0 0 0 0 1 1 0 0 0 0 0]\n",
      " [1 0 0 1 1 1 1 0 1 1 0 0 1 1 0 1 0 0 0 0]\n",
      " [1 0 0 0 0 1 0 0 0 0 0 1 1 1 1 0 1 0 1 0]\n",
      " [1 1 0 1 0 0 1 0 0 1 0 0 1 0 1 0 0 1 0 0]]\n",
      "[279, 492, 413, 388]\n"
     ]
    }
   ],
   "source": [
    "print(mat_pob)\n",
    "print(pesos_pob)"
   ]
  },
  {
   "cell_type": "code",
   "execution_count": 7,
   "metadata": {},
   "outputs": [
    {
     "data": {
      "text/plain": [
       "[5686, 5962, 4755, 4782]"
      ]
     },
     "execution_count": 7,
     "metadata": {},
     "output_type": "execute_result"
    }
   ],
   "source": [
    "fitness_pob"
   ]
  },
  {
   "cell_type": "code",
   "execution_count": 8,
   "metadata": {},
   "outputs": [
    {
     "data": {
      "text/plain": [
       "array([0, 1, 1, 1, 0, 0, 0, 1, 1, 1, 0, 1, 1, 0, 1, 0, 1, 0, 0, 0])"
      ]
     },
     "execution_count": 8,
     "metadata": {},
     "output_type": "execute_result"
    }
   ],
   "source": [
    "#Guardamos la mejor solución de la población\n",
    "Max_sol_fitness = mat_pob[np.argmax(np.array(fitness_pob))]\n",
    "Max_sol_fitness"
   ]
  },
  {
   "cell_type": "code",
   "execution_count": 10,
   "metadata": {},
   "outputs": [],
   "source": [
    "padre1, padre2 = seleccion_padres(mat_pob,fitness_pob)"
   ]
  },
  {
   "cell_type": "code",
   "execution_count": 11,
   "metadata": {},
   "outputs": [
    {
     "name": "stdout",
     "output_type": "stream",
     "text": [
      "[0 1 1 1 0 0 0 1 1 1 0 1 1 0 1 0 1 0 0 0]\n",
      "[1 0 1 0 0 0 1 0 0 1 1 1 1 1 0 1 1 0 0 0]\n"
     ]
    }
   ],
   "source": [
    "print(padre1)\n",
    "print(padre2)"
   ]
  },
  {
   "cell_type": "code",
   "execution_count": 13,
   "metadata": {},
   "outputs": [
    {
     "name": "stdout",
     "output_type": "stream",
     "text": [
      "[0 1 1 1 0 0 0 1 1 1 0 1 1 0 1 0 1 0 0 0]\n",
      "[1 0 1 0 0 0 1 0 0 1 1 1 1 1 0 1 1 0 0 0]\n"
     ]
    }
   ],
   "source": [
    "hijo1,hijo2 = cruzamiento(padre1,padre2)\n",
    "print(hijo1)\n",
    "print(hijo2)"
   ]
  },
  {
   "cell_type": "code",
   "execution_count": 16,
   "metadata": {},
   "outputs": [
    {
     "name": "stdout",
     "output_type": "stream",
     "text": [
      "[0 1 1 1 0 0 0 1 1 1 0 1 1 1 1 0 1 0 0 0]\n",
      "[1 0 1 0 0 0 1 0 0 1 1 1 1 1 0 1 1 0 0 0]\n"
     ]
    }
   ],
   "source": [
    "hijo1, hijo2 = mutacion(hijo1, hijo2, pm, Peso_maximo,Peso_objetos)\n",
    "print(hijo1)\n",
    "print(hijo2)"
   ]
  },
  {
   "cell_type": "code",
   "execution_count": 19,
   "metadata": {},
   "outputs": [
    {
     "data": {
      "text/plain": [
       "array([[1, 0, 1, 0, 0, 0, 1, 0, 0, 1, 1, 1, 1, 1, 0, 1, 1, 0, 0, 0],\n",
       "       [0, 1, 1, 1, 0, 0, 0, 1, 1, 1, 0, 1, 1, 0, 1, 0, 1, 0, 0, 0],\n",
       "       [0, 1, 1, 1, 0, 0, 0, 1, 1, 1, 0, 1, 1, 1, 1, 0, 1, 0, 0, 0],\n",
       "       [1, 0, 1, 0, 0, 0, 1, 0, 0, 1, 1, 1, 1, 1, 0, 1, 1, 0, 0, 0]])"
      ]
     },
     "execution_count": 19,
     "metadata": {},
     "output_type": "execute_result"
    }
   ],
   "source": [
    "mat_pob = reemplazo(mat_pob,fitness_pob,hijo1,hijo2)\n",
    "mat_pob"
   ]
  },
  {
   "cell_type": "code",
   "execution_count": null,
   "metadata": {},
   "outputs": [],
   "source": []
  },
  {
   "cell_type": "code",
   "execution_count": 26,
   "metadata": {},
   "outputs": [],
   "source": [
    "def poblacion_inicial(po,Peso_maximo,Cantidad_objetos,Peso_objetos,Valor_objetos):\n",
    "    pesos_pob=[]\n",
    "    fitness_pob=[]\n",
    "    for i in range(po):\n",
    "        Peso_vec_sol = Peso_maximo+1\n",
    "        while Peso_vec_sol > Peso_maximo:\n",
    "            Vector_sol = np.random.choice([0, 1], size=Cantidad_objetos)\n",
    "            Peso_vec_sol = sum(Peso_objetos * Vector_sol)\n",
    "            fitness = sum(Valor_objetos * Vector_sol)\n",
    "        if i == 0:\n",
    "            mat_pob = Vector_sol.copy()\n",
    "        else:\n",
    "            mat_pob = np.vstack([mat_pob, Vector_sol])\n",
    "        pesos_pob.append(Peso_vec_sol)\n",
    "        fitness_pob.append(fitness)\n",
    "    return mat_pob, fitness_pob"
   ]
  },
  {
   "cell_type": "code",
   "execution_count": 9,
   "metadata": {},
   "outputs": [],
   "source": [
    "# Función para la selección de padres por torneo\n",
    "def seleccion_padres(mp,fp):\n",
    "    fp2 = fp.copy()\n",
    "    padre1= mp[np.argmax(fp2)]\n",
    "    fp2[np.argmax(fp2)]= 0\n",
    "    padre2 = mp[np.argmax(fp2)]\n",
    "    return padre1, padre2"
   ]
  },
  {
   "cell_type": "code",
   "execution_count": 12,
   "metadata": {},
   "outputs": [],
   "source": [
    "#Función de cruzamiento para los padres (Cruzamiento binario 1 punto)\n",
    "def cruzamiento(padre1,padre2):\n",
    "    corte = np.random.randint(1,len(padre1))\n",
    "    hijo1 = np.hstack((padre1[0:corte],padre2[corte:]))\n",
    "    hijo2 = np.hstack((padre2[0:corte],padre1[corte:]))\n",
    "    return hijo1, hijo2"
   ]
  },
  {
   "cell_type": "code",
   "execution_count": 15,
   "metadata": {},
   "outputs": [],
   "source": [
    "#Función de mutación para los hijos\n",
    "\n",
    "def mutacion(hijo1, hijo2, pm, Peso_maximo,Peso_objetos):\n",
    "    #Mutación Hijo 1\n",
    "    if np.random.rand(1) < pm:\n",
    "        peso = Peso_maximo+1\n",
    "        while peso > Peso_maximo:\n",
    "            Posicion = random.randint(0,len(hijo1)-1) #Elegir un objeto\n",
    "            if hijo1[Posicion] == 0:\n",
    "                hijo1[Posicion] = 1\n",
    "            else:\n",
    "                hijo1[Posicion] = 0\n",
    "            peso = sum(Peso_objetos * hijo1)\n",
    "    \n",
    "    #Mutación Hijo 2\n",
    "    if np.random.rand(1) < pm:\n",
    "        peso = Peso_maximo+1\n",
    "        while peso > Peso_maximo:\n",
    "            Posicion = random.randint(0,len(hijo2)-1) #Elegir un objeto\n",
    "            if hijo2[Posicion] == 0:\n",
    "                hijo2[Posicion] = 1\n",
    "            else:\n",
    "                hijo2[Posicion] = 0\n",
    "            peso = sum(Peso_objetos * hijo2)\n",
    "            \n",
    "    return hijo1,hijo2"
   ]
  },
  {
   "cell_type": "code",
   "execution_count": 17,
   "metadata": {},
   "outputs": [],
   "source": [
    "#Función de reemplazo - Determinista, se reemplazan los n peores\n",
    "def reemplazo(mp,fp,hijo1,hijo2):\n",
    "    mp2 = mp.copy()\n",
    "    fp2 = fp.copy()\n",
    "    mp2[np.argmin(fp2)] = hijo1\n",
    "    fp2[np.argmin(fp2)]= np.max(fp2)\n",
    "    mp2[np.argmin(fp2)] = hijo2\n",
    "    return mp2  "
   ]
  },
  {
   "cell_type": "code",
   "execution_count": 18,
   "metadata": {},
   "outputs": [],
   "source": [
    "#Función de reemplazo - Determinista, reemplazaremos al mejor y al peor \n",
    "def reemplazo2(mp,fp,hijo1,hijo2):\n",
    "    mp2 = mp.copy()\n",
    "    fp2 = fp.copy()\n",
    "    mp2[np.argmin(fp2)] = hijo1\n",
    "    mp2[np.argmax(fp2)] = hijo2\n",
    "    return mp2"
   ]
  },
  {
   "cell_type": "code",
   "execution_count": 20,
   "metadata": {},
   "outputs": [],
   "source": [
    "rcruzamiento = np.random.rand(1)\n",
    "if rcruzamiento < pc:\n",
    "    padre1, padre2 = seleccion_padres(mat_pob,fitness_pob)\n",
    "    hijo1, hijo2 = cruzamiento(padre1,padre2)\n",
    "    hijo1, hijo2 = mutacion(hijo1, hijo2, pm, Peso_maximo,Peso_objetos)\n",
    "    mat_pob = reemplazo(mat_pob,fitness_pob,hijo1,hijo2)"
   ]
  },
  {
   "cell_type": "code",
   "execution_count": 21,
   "metadata": {},
   "outputs": [
    {
     "data": {
      "text/plain": [
       "[5686, 5962, 6366, 5282]"
      ]
     },
     "execution_count": 21,
     "metadata": {},
     "output_type": "execute_result"
    }
   ],
   "source": [
    "fitness_pob = []\n",
    "for i in range(po):\n",
    "    fitness_new = sum(mat_pob[i]*Valor_objetos)\n",
    "    fitness_pob.append(fitness_new)\n",
    "fitness_pob"
   ]
  },
  {
   "cell_type": "code",
   "execution_count": 22,
   "metadata": {},
   "outputs": [],
   "source": [
    "if sum(Max_sol_fitness*Valor_objetos) < sum(mat_pob[np.argmax(np.array(fitness_pob))]*Valor_objetos):\n",
    "    Max_sol_fitness = mat_pob[np.argmax(np.array(fitness_pob))] "
   ]
  },
  {
   "cell_type": "markdown",
   "metadata": {},
   "source": [
    "### Automatizamos el proceso"
   ]
  },
  {
   "cell_type": "code",
   "execution_count": 23,
   "metadata": {},
   "outputs": [],
   "source": [
    "#VALORES INICIALES\n",
    "\n",
    "po = 4 #Número de individuos por población\n",
    "pm = 0.2 #Probabilidad de mutación\n",
    "pc = 0.9 #Probabilidad de cruzamiento\n",
    "GenMax = 5000 #Número de generaciones máx\n",
    "\n",
    "#Definimos la cantidad de objetos, el peso minimo de un objeto y el peso maximo (aleatoriamente)\n",
    "Cantidad_objetos = 20\n",
    "Peso_minimo = 20 #kilogramos\n",
    "Peso_maximo = 80 #kilogramos\n",
    "Peso_objetos = random.sample(range(Peso_minimo,Peso_maximo), Cantidad_objetos)\n",
    "\n",
    "#Definimos el valor de esos objetos (aleatoriamente)\n",
    "valor_minimo = 100 #euros\n",
    "valor_maximo = 1200 #euros\n",
    "Valor_objetos = random.sample(range(valor_minimo,valor_maximo), Cantidad_objetos)\n",
    "\n",
    "#Definimos el peso máximo que soporta la mochila\n",
    "Peso_maximo = 750 #kilogramos"
   ]
  },
  {
   "cell_type": "code",
   "execution_count": 27,
   "metadata": {},
   "outputs": [],
   "source": [
    "#Generamos la población inicial \n",
    "mat_pob, fitness_pob = poblacion_inicial(po,Peso_maximo,Cantidad_objetos,Peso_objetos,Valor_objetos)\n",
    "\n",
    "#Gurdamos en Max_sol_fitness a la mejor solución de la población \n",
    "Max_sol_fitness = mat_pob[np.argmax(np.array(fitness_pob))]\n",
    "\n",
    "Lista_max_sol_fitness = [Max_sol_fitness]\n",
    "lista_mejor_poblacion_actual=[]\n",
    "for k in range(GenMax):\n",
    "    rcruzamiento = np.random.rand(1)\n",
    "    if rcruzamiento < pc:\n",
    "        #Modelo estacionario \n",
    "        padre1, padre2 = seleccion_padres(mat_pob,fitness_pob) #Selección de padres\n",
    "        hijo1, hijo2 = cruzamiento(padre1,padre2) #Cruzamiento: creación de los hijos\n",
    "        hijo1, hijo2 = mutacion(hijo1, hijo2, pm, Peso_maximo,Peso_objetos) #Mutación de los hijos\n",
    "        mat_pob = reemplazo2(mat_pob,fitness_pob,hijo1,hijo2) #Reemplazo de la población\n",
    "        \n",
    "        fitness_pob = []\n",
    "        for i in range(po):\n",
    "            fitness_new = sum(mat_pob[i]*Valor_objetos)\n",
    "            fitness_pob.append(fitness_new)\n",
    "        Mejor_poblacion_Actual = sum(mat_pob[np.argmax(np.array(fitness_pob))]*Valor_objetos)\n",
    "        lista_mejor_poblacion_actual.append(Mejor_poblacion_Actual)\n",
    "        \n",
    "        if sum(Max_sol_fitness*Valor_objetos) < sum(mat_pob[np.argmax(np.array(fitness_pob))]*Valor_objetos):\n",
    "            Max_sol_fitness = mat_pob[np.argmax(np.array(fitness_pob))] \n",
    "            Lista_max_sol_fitness.append(Max_sol_fitness)\n",
    "    "
   ]
  },
  {
   "cell_type": "code",
   "execution_count": 28,
   "metadata": {},
   "outputs": [
    {
     "data": {
      "text/plain": [
       "[<matplotlib.lines.Line2D at 0x16157990908>]"
      ]
     },
     "execution_count": 28,
     "metadata": {},
     "output_type": "execute_result"
    },
    {
     "data": {
      "image/png": "[encoded data removed]",
      "text/plain": [
       "<Figure size 432x288 with 1 Axes>"
      ]
     },
     "metadata": {
      "needs_background": "light"
     },
     "output_type": "display_data"
    }
   ],
   "source": [
    "plt.plot(range(len(lista_mejor_poblacion_actual)),lista_mejor_poblacion_actual,color=\"red\") #Todas las distancias"
   ]
  },
  {
   "cell_type": "code",
   "execution_count": 25,
   "metadata": {},
   "outputs": [
    {
     "data": {
      "text/plain": [
       "12726"
      ]
     },
     "execution_count": 25,
     "metadata": {},
     "output_type": "execute_result"
    }
   ],
   "source": [
    "sum(Max_sol_fitness*Valor_objetos)"
   ]
  },
  {
   "cell_type": "code",
   "execution_count": null,
   "metadata": {},
   "outputs": [],
   "source": []
  }
 ],
 "metadata": {
  "kernelspec": {
   "display_name": "Python 3",
   "language": "python",
   "name": "python3"
  },
  "language_info": {
   "codemirror_mode": {
    "name": "ipython",
    "version": 3
   },
   "file_extension": ".py",
   "mimetype": "text/x-python",
   "name": "python",
   "nbconvert_exporter": "python",
   "pygments_lexer": "ipython3",
   "version": "3.7.6"
  }
 },
 "nbformat": 4,
 "nbformat_minor": 4
}
